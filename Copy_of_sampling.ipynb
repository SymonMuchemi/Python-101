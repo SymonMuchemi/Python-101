{
  "nbformat": 4,
  "nbformat_minor": 0,
  "metadata": {
    "colab": {
      "provenance": []
    },
    "kernelspec": {
      "name": "python3",
      "display_name": "Python 3"
    },
    "language_info": {
      "name": "python"
    }
  },
  "cells": [
    {
      "cell_type": "code",
      "execution_count": null,
      "metadata": {
        "id": "9hZUxWhia0h1"
      },
      "outputs": [],
      "source": [
        "import numpy as np\n",
        "import pandas as pd\n",
        "import matplotlib.pyplot as plt\n",
        "import seaborn as sns\n",
        "from sklearn.datasets import load_iris\n",
        "from sklearn.model_selection import train_test_split\n",
        "from sklearn.neighbors import KNeighborsClassifier\n",
        "from sklearn.metrics import accuracy_score, f1_score\n",
        "from imblearn.over_sampling import RandomOverSampler\n",
        "from imblearn.under_sampling import RandomUnderSampler\n",
        "from imblearn.over_sampling import SMOTE"
      ]
    },
    {
      "cell_type": "code",
      "source": [
        "# Load the Iris dataset\n",
        "data = load_iris()\n",
        "df = pd.DataFrame(data.data, columns=data.feature_names)\n",
        "df['Species'] = data.target"
      ],
      "metadata": {
        "id": "fjZ0Hxlra9PI"
      },
      "execution_count": null,
      "outputs": []
    },
    {
      "cell_type": "code",
      "source": [
        "# Split the dataset\n",
        "X = df.drop('Species', axis=1)\n",
        "y = df['Species']\n",
        "X_train, X_test, y_train, y_test = train_test_split(X, y, test_size=0.2, random_state=43)\n"
      ],
      "metadata": {
        "id": "c60cOzHldBvi"
      },
      "execution_count": null,
      "outputs": []
    },
    {
      "cell_type": "code",
      "source": [
        "# Define a function to train and evaluate KNN with different sampling methods\n",
        "def train_evaluate_knn(X_train, y_train, X_test, y_test, n_neighbors=5):\n",
        "    knn = KNeighborsClassifier(n_neighbors=n_neighbors)\n",
        "    knn.fit(X_train, y_train)\n",
        "    y_pred = knn.predict(X_test)\n",
        "    accuracy = accuracy_score(y_test, y_pred)\n",
        "    f1 = f1_score(y_test, y_pred, average=\"weighted\")\n",
        "    return accuracy, f1"
      ],
      "metadata": {
        "id": "5F8-1xOidFn6"
      },
      "execution_count": null,
      "outputs": []
    },
    {
      "cell_type": "code",
      "source": [
        "# Original\n",
        "accuracy, f1 = train_evaluate_knn(X_train, y_train, X_test, y_test)\n",
        "print(\"Original Data - Accuracy: {:.2f}% | F1 Score: {:.2f}\".format(accuracy * 100, f1))\n"
      ],
      "metadata": {
        "colab": {
          "base_uri": "https://localhost:8080/"
        },
        "id": "XWPjjxkYdFu5",
        "outputId": "22a1dea6-40ad-4350-fff3-ec73e2307cc3"
      },
      "execution_count": null,
      "outputs": [
        {
          "output_type": "stream",
          "name": "stdout",
          "text": [
            "Original Data - Accuracy: 100.00% | F1 Score: 1.00\n"
          ]
        }
      ]
    },
    {
      "cell_type": "code",
      "source": [
        "# Oversampling\n",
        "ros = RandomOverSampler(random_state=42)\n",
        "X_resampled, y_resampled = ros.fit_resample(X_train, y_train)\n",
        "accuracy, f1 = train_evaluate_knn(X_resampled, y_resampled, X_test, y_test)\n",
        "print(\"Oversampled Data - Accuracy: {:.2f}% | F1 Score: {:.2f}\".format(accuracy * 100, f1))\n"
      ],
      "metadata": {
        "colab": {
          "base_uri": "https://localhost:8080/"
        },
        "id": "TpE4fhk2dRFa",
        "outputId": "6015342e-1292-46f4-ae0d-736df34f5ac2"
      },
      "execution_count": null,
      "outputs": [
        {
          "output_type": "stream",
          "name": "stdout",
          "text": [
            "Oversampled Data - Accuracy: 100.00% | F1 Score: 1.00\n"
          ]
        }
      ]
    },
    {
      "cell_type": "code",
      "source": [
        "# Undersampling\n",
        "rus = RandomUnderSampler(random_state=42)\n",
        "X_resampled, y_resampled = rus.fit_resample(X_train, y_train)\n",
        "accuracy, f1 = train_evaluate_knn(X_resampled, y_resampled, X_test, y_test)\n",
        "print(\"Undersampled Data - Accuracy: {:.2f}% | F1 Score: {:.2f}\".format(accuracy * 100, f1))\n"
      ],
      "metadata": {
        "colab": {
          "base_uri": "https://localhost:8080/"
        },
        "id": "2xV0ZdbidWV-",
        "outputId": "a760c989-d45a-4bd2-f61e-f74fa6026939"
      },
      "execution_count": null,
      "outputs": [
        {
          "output_type": "stream",
          "name": "stdout",
          "text": [
            "Undersampled Data - Accuracy: 96.67% | F1 Score: 0.97\n"
          ]
        }
      ]
    },
    {
      "cell_type": "code",
      "source": [
        "# SMOTE\n",
        "smote = SMOTE(random_state=42)\n",
        "X_resampled, y_resampled = smote.fit_resample(X_train, y_train)\n",
        "accuracy, f1 = train_evaluate_knn(X_resampled, y_resampled, X_test, y_test)\n",
        "print(\"SMOTE Data - Accuracy: {:.2f}% | F1 Score: {:.2f}\".format(accuracy * 100, f1))\n"
      ],
      "metadata": {
        "colab": {
          "base_uri": "https://localhost:8080/"
        },
        "id": "juXXNlW2dcNB",
        "outputId": "2ff79692-120e-4c23-c492-7639191c2ef8"
      },
      "execution_count": null,
      "outputs": [
        {
          "output_type": "stream",
          "name": "stdout",
          "text": [
            "SMOTE Data - Accuracy: 100.00% | F1 Score: 1.00\n"
          ]
        }
      ]
    }
  ]
}